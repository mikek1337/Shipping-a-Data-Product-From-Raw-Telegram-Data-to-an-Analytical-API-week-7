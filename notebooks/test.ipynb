{
 "cells": [
  {
   "cell_type": "code",
   "execution_count": 1,
   "id": "a1e9d5cb",
   "metadata": {},
   "outputs": [],
   "source": [
    "import pandas as pd"
   ]
  },
  {
   "cell_type": "code",
   "execution_count": 4,
   "id": "ae0036c5",
   "metadata": {},
   "outputs": [],
   "source": [
    "data = pd.read_json('../data/raw/telegram_messages/2023-01-13/CheMed123.json')"
   ]
  },
  {
   "cell_type": "code",
   "execution_count": 5,
   "id": "5fee444b",
   "metadata": {},
   "outputs": [
    {
     "data": {
      "application/vnd.microsoft.datawrangler.viewer.v0+json": {
       "columns": [
        {
         "name": "index",
         "rawType": "int64",
         "type": "integer"
        },
        {
         "name": "message_id",
         "rawType": "int64",
         "type": "integer"
        },
        {
         "name": "date",
         "rawType": "datetime64[ns]",
         "type": "datetime"
        },
        {
         "name": "sender_id",
         "rawType": "int64",
         "type": "integer"
        },
        {
         "name": "message",
         "rawType": "object",
         "type": "string"
        },
        {
         "name": "views",
         "rawType": "int64",
         "type": "integer"
        },
        {
         "name": "channel_name",
         "rawType": "object",
         "type": "string"
        },
        {
         "name": "image",
         "rawType": "object",
         "type": "string"
        }
       ],
       "ref": "5a718bd5-3eb0-475d-bb5c-6323cd3592da",
       "rows": [
        [
         "0",
         "82",
         "2023-01-13 12:48:47",
         "-1001627056354",
         "Nature's Bounty Supplement Products are here!\n\nChe-Med Nature's Bounty Supplement Products ይዞላችሁ መጧል።\n\nበቁጥር ውስን ስለሆኑ ቀድመው ይዘዙን።\n\nለማዘዝ፦\nOur pharmacist: https://t.me/CheMedAssistant9798\nOur call center: 9798\n\nChe-Med the best way to find your meds!",
         "364",
         "CheMed123",
         "data/raw/telegram_messages/images/photo_2025-07-10_19-19-27.jpg"
        ],
        [
         "1",
         "81",
         "2023-01-13 09:44:14",
         "-1001627056354",
         "Nature's Bounty Supplement Products are here!\n\nChe-Med Nature's Bounty Supplement Products ይዞላችሁ መጧል።\n\nበቁጥር ውስን ስለሆኑ ቀድመው ይዘዙን።\n\nለማዘዝ፦\nOur pharmacist: https://t.me/CheMedAssistant9798\nOur call center: 9798\n\nChe-Med the best way to find your meds!",
         "1736",
         "CheMed123",
         "data/raw/telegram_messages/images/photo_2025-07-10_19-19-31.jpg"
        ]
       ],
       "shape": {
        "columns": 7,
        "rows": 2
       }
      },
      "text/html": [
       "<div>\n",
       "<style scoped>\n",
       "    .dataframe tbody tr th:only-of-type {\n",
       "        vertical-align: middle;\n",
       "    }\n",
       "\n",
       "    .dataframe tbody tr th {\n",
       "        vertical-align: top;\n",
       "    }\n",
       "\n",
       "    .dataframe thead th {\n",
       "        text-align: right;\n",
       "    }\n",
       "</style>\n",
       "<table border=\"1\" class=\"dataframe\">\n",
       "  <thead>\n",
       "    <tr style=\"text-align: right;\">\n",
       "      <th></th>\n",
       "      <th>message_id</th>\n",
       "      <th>date</th>\n",
       "      <th>sender_id</th>\n",
       "      <th>message</th>\n",
       "      <th>views</th>\n",
       "      <th>channel_name</th>\n",
       "      <th>image</th>\n",
       "    </tr>\n",
       "  </thead>\n",
       "  <tbody>\n",
       "    <tr>\n",
       "      <th>0</th>\n",
       "      <td>82</td>\n",
       "      <td>2023-01-13 12:48:47</td>\n",
       "      <td>-1001627056354</td>\n",
       "      <td>Nature's Bounty Supplement Products are here!\\...</td>\n",
       "      <td>364</td>\n",
       "      <td>CheMed123</td>\n",
       "      <td>data/raw/telegram_messages/images/photo_2025-0...</td>\n",
       "    </tr>\n",
       "    <tr>\n",
       "      <th>1</th>\n",
       "      <td>81</td>\n",
       "      <td>2023-01-13 09:44:14</td>\n",
       "      <td>-1001627056354</td>\n",
       "      <td>Nature's Bounty Supplement Products are here!\\...</td>\n",
       "      <td>1736</td>\n",
       "      <td>CheMed123</td>\n",
       "      <td>data/raw/telegram_messages/images/photo_2025-0...</td>\n",
       "    </tr>\n",
       "  </tbody>\n",
       "</table>\n",
       "</div>"
      ],
      "text/plain": [
       "   message_id                date      sender_id  \\\n",
       "0          82 2023-01-13 12:48:47 -1001627056354   \n",
       "1          81 2023-01-13 09:44:14 -1001627056354   \n",
       "\n",
       "                                             message  views channel_name  \\\n",
       "0  Nature's Bounty Supplement Products are here!\\...    364    CheMed123   \n",
       "1  Nature's Bounty Supplement Products are here!\\...   1736    CheMed123   \n",
       "\n",
       "                                               image  \n",
       "0  data/raw/telegram_messages/images/photo_2025-0...  \n",
       "1  data/raw/telegram_messages/images/photo_2025-0...  "
      ]
     },
     "execution_count": 5,
     "metadata": {},
     "output_type": "execute_result"
    }
   ],
   "source": [
    "data"
   ]
  }
 ],
 "metadata": {
  "kernelspec": {
   "display_name": ".venv",
   "language": "python",
   "name": "python3"
  },
  "language_info": {
   "codemirror_mode": {
    "name": "ipython",
    "version": 3
   },
   "file_extension": ".py",
   "mimetype": "text/x-python",
   "name": "python",
   "nbconvert_exporter": "python",
   "pygments_lexer": "ipython3",
   "version": "3.13.5"
  }
 },
 "nbformat": 4,
 "nbformat_minor": 5
}
